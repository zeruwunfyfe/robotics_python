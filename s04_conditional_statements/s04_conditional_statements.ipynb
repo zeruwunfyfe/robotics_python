{
 "cells": [
  {
   "cell_type": "markdown",
   "metadata": {},
   "source": [
    "[Table of Contents](../../index.ipynb)"
   ]
  },
  {
   "cell_type": "markdown",
   "metadata": {},
   "source": [
    "# FRC Analytics with Python - Session 04\n",
    "# Conditional Statements\n",
    "**Last Updated: 23 September 2021**"
   ]
  },
  {
   "cell_type": "markdown",
   "metadata": {},
   "source": [
    "## I. Statements\n",
    "Before we discuss conditional statements, we should discuss what a statement is. In any programming language, a **statement** is an instruction to the computer, telling it to take some action. A simple example of a statement is the assignment statement. See below."
   ]
  },
  {
   "cell_type": "code",
   "execution_count": 1,
   "metadata": {},
   "outputs": [],
   "source": [
    "# Assignment Statement\n",
    "match_score = 128"
   ]
  },
  {
   "cell_type": "markdown",
   "metadata": {},
   "source": [
    "The statement above instructs the Python interpreter (the program that reads and executes the Python code) to create an integer object with a value of 128, and assign the variable `match_score` to reference that object.\n",
    "\n",
    "In Python, statements end at the end of the line, unless we explicitly tell Python to include the next line in the statement. See below for examples of how to continue statements to the following line."
   ]
  },
  {
   "cell_type": "code",
   "execution_count": 2,
   "metadata": {},
   "outputs": [
    {
     "name": "stdout",
     "output_type": "stream",
     "text": [
      "Competition not for the sake not of destroying one another, but for the sake of bettering and improving both competitors as a result of the competition.  - Woodie Flowers - \n"
     ]
    }
   ],
   "source": [
    "# Statements can be split between lines within function argument lists.\n",
    "# The new line must start after one of the commas that separates the arguments.\n",
    "# This is helpful if a function has many arguments.\n",
    "print(\"Competition not for the sake not of destroying\",\n",
    "     \"one another, but for the sake of bettering and\",\n",
    "     \"improving both competitors as a result of the\",\n",
    "     \"competition.\", \" - Woodie Flowers - \")"
   ]
  },
  {
   "cell_type": "code",
   "execution_count": 3,
   "metadata": {},
   "outputs": [
    {
     "data": {
      "text/plain": [
       "['Glacier Peak',\n",
       " 'Auburn Mountainview',\n",
       " 'Yakima Sundome',\n",
       " 'Oregon State Fair',\n",
       " 'Wisonville',\n",
       " 'West Valley']"
      ]
     },
     "execution_count": 3,
     "metadata": {},
     "output_type": "execute_result"
    }
   ],
   "source": [
    "# List literals can be split after a comma.\n",
    "events = ['Glacier Peak', 'Auburn Mountainview', 'Yakima Sundome',\n",
    "         'Oregon State Fair', 'Wisonville', 'West Valley']\n",
    "events"
   ]
  },
  {
   "cell_type": "code",
   "execution_count": 4,
   "metadata": {},
   "outputs": [
    {
     "data": {
      "text/plain": [
       "22.0"
      ]
     },
     "execution_count": 4,
     "metadata": {},
     "output_type": "execute_result"
    }
   ],
   "source": [
    "# Lines can be split by ending the first line with a backslash (\\)\n",
    "# This technique is considered to reflect poor style (yes, coding\n",
    "# can have style!), so only use it if you have no other options.\n",
    "grade_points = 4.0 + 3.7 + 4.0 + 3.3 \\\n",
    "               + 3.0 + 4.0\n",
    "grade_points"
   ]
  },
  {
   "cell_type": "code",
   "execution_count": 5,
   "metadata": {},
   "outputs": [
    {
     "data": {
      "text/plain": [
       "22.0"
      ]
     },
     "execution_count": 5,
     "metadata": {},
     "output_type": "execute_result"
    }
   ],
   "source": [
    "# Lines can also be split by enclosing a portion within parenthesis.\n",
    "# Most prefer this technique to the backslash used in the previous\n",
    "# code block.\n",
    "grade_points = (4.0 + 3.7 + 4.0 + 3.3\n",
    "               + 3.0 + 4.0)\n",
    "grade_points"
   ]
  },
  {
   "cell_type": "markdown",
   "metadata": {},
   "source": [
    "Knowing how to continue long statements to the next line is important. The style guidlines for Python and many other programming languages recommend limiting all lines to 79 characters or less. This practice makes it easier to view two code files side by side on one screen. Also, the mentor gets grouchy if he has to scroll horizontally to read your code.\n",
    "\n",
    "For this course we will follow the [official Python style guide](https://www.python.org/dev/peps/pep-0008/) and the [Google Python Style Guide](http://google.github.io/styleguide/pyguide.html). The link is included here in case you are curious. We will cover style rules later in the course. Progammers actually get into arguments over details of style."
   ]
  },
  {
   "cell_type": "markdown",
   "metadata": {},
   "source": [
    "## II. What are Conditional Statements? \n",
    "Completing numerical calculations and extracting characters from text strings is all well and good. But programs that just execute the same sequence of statements over and over are kind of boring. For a program to do something interesting, it needs to make decisions and execute different statements based on the situation. For this, we need conditional statements.\n",
    "\n",
    "Python has one conditional statement, the `if` statement. Even if you've never heard of an `if` statement before, you'll probably understand the following chunk of code:\n",
    "```Python\n",
    "if num_cheetos_left == 0:\n",
    "    print('We need to buy more Cheetos!')\n",
    "```"
   ]
  },
  {
   "cell_type": "markdown",
   "metadata": {},
   "source": [
    "## III. Comparison Operators and Booleans\n",
    "To understand and use the `if` statement, we first need to understand comparison operators and the Boolean data type. We'll also discuss logical operators.\n",
    "\n",
    "### A. Testing for Equality and Boolean Data Types\n",
    "In computer programming we often need to determine if a variable is equal to a specific number. We can do that with the equality operator, `==`. It looks like the assignment statement, but it uses two equals signs instead of one."
   ]
  },
  {
   "cell_type": "code",
   "execution_count": 6,
   "metadata": {},
   "outputs": [
    {
     "data": {
      "text/plain": [
       "True"
      ]
     },
     "execution_count": 6,
     "metadata": {},
     "output_type": "execute_result"
    }
   ],
   "source": [
    "# Equality Operator - evaluates to True\n",
    "var1 = 2 + 2\n",
    "var1 == 4"
   ]
  },
  {
   "cell_type": "code",
   "execution_count": 7,
   "metadata": {},
   "outputs": [
    {
     "data": {
      "text/plain": [
       "False"
      ]
     },
     "execution_count": 7,
     "metadata": {},
     "output_type": "execute_result"
    }
   ],
   "source": [
    "# Equality Operator - evaluates to False\n",
    "var1 == 5"
   ]
  },
  {
   "cell_type": "markdown",
   "metadata": {},
   "source": [
    "The equality operator doesn't make any changes to the values on either side. (By the way, we call these values *operands*.) It basically asks a question: *Are these two values equal to each other?*\n",
    "\n",
    "But what are these words *True* and *False* that are being displayed? Running the next cell will provide a hint."
   ]
  },
  {
   "cell_type": "code",
   "execution_count": 8,
   "metadata": {},
   "outputs": [
    {
     "data": {
      "text/plain": [
       "bool"
      ]
     },
     "execution_count": 8,
     "metadata": {},
     "output_type": "execute_result"
    }
   ],
   "source": [
    "# What do True and False mean?\n",
    "type(var1 == 4)"
   ]
  },
  {
   "cell_type": "markdown",
   "metadata": {},
   "source": [
    "Aha! We have discovered a new data type. The word *bool* is short for Boolean. The **Boolean** data type has only two values, `True` and `False`. Like integers, floats, and string, Boolean data types can be assigned to variables. The word *Boolean* is typically capitalized because Booleans were named after [George Boole](https://en.wikipedia.org/wiki/George_Boole), an English mathematician from the 19th century."
   ]
  },
  {
   "cell_type": "code",
   "execution_count": 9,
   "metadata": {},
   "outputs": [
    {
     "data": {
      "text/plain": [
       "bool"
      ]
     },
     "execution_count": 9,
     "metadata": {},
     "output_type": "execute_result"
    }
   ],
   "source": [
    "bool_val = True\n",
    "type(bool_val)"
   ]
  },
  {
   "cell_type": "code",
   "execution_count": 10,
   "metadata": {},
   "outputs": [
    {
     "data": {
      "text/plain": [
       "bool"
      ]
     },
     "execution_count": 10,
     "metadata": {},
     "output_type": "execute_result"
    }
   ],
   "source": [
    "bool_val = False\n",
    "type(bool_val)"
   ]
  },
  {
   "cell_type": "markdown",
   "metadata": {},
   "source": [
    "Remember, Python is case sensitive. The values `True` and `False` must always have the first letter capitalized, with the remaining letters lower case.\n",
    "\n",
    "Boolean values have their own built-in function, just like integers, strings, and floats do."
   ]
  },
  {
   "cell_type": "code",
   "execution_count": 11,
   "metadata": {},
   "outputs": [
    {
     "data": {
      "text/plain": [
       "False"
      ]
     },
     "execution_count": 11,
     "metadata": {},
     "output_type": "execute_result"
    }
   ],
   "source": [
    "# Convert an integer to Boolean - 0 converts to False\n",
    "bvar = bool(0)\n",
    "bvar"
   ]
  },
  {
   "cell_type": "code",
   "execution_count": 12,
   "metadata": {},
   "outputs": [
    {
     "data": {
      "text/plain": [
       "True"
      ]
     },
     "execution_count": 12,
     "metadata": {},
     "output_type": "execute_result"
    }
   ],
   "source": [
    "# Convert an integer to Boolean - All values other than 0 convert to True\n",
    "bvar = bool(37)\n",
    "bvar"
   ]
  },
  {
   "cell_type": "code",
   "execution_count": 13,
   "metadata": {},
   "outputs": [
    {
     "data": {
      "text/plain": [
       "False"
      ]
     },
     "execution_count": 13,
     "metadata": {},
     "output_type": "execute_result"
    }
   ],
   "source": [
    "# Empty string converts to False\n",
    "bool(\"\")"
   ]
  },
  {
   "cell_type": "code",
   "execution_count": 14,
   "metadata": {},
   "outputs": [
    {
     "data": {
      "text/plain": [
       "True"
      ]
     },
     "execution_count": 14,
     "metadata": {},
     "output_type": "execute_result"
    }
   ],
   "source": [
    "# All other strings convert to True\n",
    "bool(\"False\")"
   ]
  },
  {
   "cell_type": "code",
   "execution_count": 15,
   "metadata": {},
   "outputs": [
    {
     "data": {
      "text/plain": [
       "False"
      ]
     },
     "execution_count": 15,
     "metadata": {},
     "output_type": "execute_result"
    }
   ],
   "source": [
    "# An empty list converts to False\n",
    "bool([])"
   ]
  },
  {
   "cell_type": "code",
   "execution_count": 16,
   "metadata": {},
   "outputs": [
    {
     "data": {
      "text/plain": [
       "True"
      ]
     },
     "execution_count": 16,
     "metadata": {},
     "output_type": "execute_result"
    }
   ],
   "source": [
    "# All other lists convert to True\n",
    "bool([1, 2, 3])"
   ]
  },
  {
   "cell_type": "code",
   "execution_count": 17,
   "metadata": {},
   "outputs": [
    {
     "name": "stdout",
     "output_type": "stream",
     "text": [
      "False\n",
      "True\n"
     ]
    }
   ],
   "source": [
    "# Floats convert to Booleans in a similar fashion as integers\n",
    "print(bool(0.0))\n",
    "print(bool(0.1))"
   ]
  },
  {
   "cell_type": "markdown",
   "metadata": {},
   "source": [
    "These rules for converting other data types to Booleans probably seem arbitrary and confusing. Don't worry too much about that now. Just remember that these rules exist -- they come in handy sometimes."
   ]
  },
  {
   "cell_type": "markdown",
   "metadata": {},
   "source": [
    "### B. Equality Versus Variable Assignment - IMPORTANT DISTINCTION\n",
    "What is the difference between the following two statements?\n",
    "1. `my_var = 0`\n",
    "2. `my_var == 0`?\n",
    "\n",
    "In statement #1, with just one equals sign, we are assigning the value of 0 to the variable `my_var`. Perhaps `my_var` was equal to some other number before this statement, like 432. But after the statement, `print(my_var)` will display 0.\n",
    "\n",
    "**Ex. III.A.1.** In statement #2, we are checking to see if `my_var` is equal to 0. So if `my_var` is actually equal to 432, what will `print(my_var == 0)` display? Run the cell below to find out."
   ]
  },
  {
   "cell_type": "code",
   "execution_count": 19,
   "metadata": {},
   "outputs": [
    {
     "name": "stdout",
     "output_type": "stream",
     "text": [
      "True\n"
     ]
    }
   ],
   "source": [
    "# Ex III.A.1 Run this cell to see difference between variable assignment and conditional equality\n",
    "my_var = 432\n",
    "my_var -= 432\n",
    "print(my_var == 0)"
   ]
  },
  {
   "cell_type": "markdown",
   "metadata": {},
   "source": [
    "Change the code above to make the `print` function display `True`.\n",
    "\n",
    "**Bottom line:** One equals sign and two equals signs are two completely different things. One equals sign is called the *assignment operator* and two equals signs are called the *equality* operator. Try not to mix these up."
   ]
  },
  {
   "cell_type": "markdown",
   "metadata": {},
   "source": [
    "### C. More Comparison Operators\n",
    "Now back to comparison operators. Determining equality is all good, but what if we want to see if a number is *not* equal to another number? Python has an operator for that."
   ]
  },
  {
   "cell_type": "code",
   "execution_count": 20,
   "metadata": {},
   "outputs": [
    {
     "name": "stdout",
     "output_type": "stream",
     "text": [
      "False\n",
      "True\n"
     ]
    }
   ],
   "source": [
    "# Inequality Operator\n",
    "print(4 != 4)\n",
    "print(4 != 3)"
   ]
  },
  {
   "cell_type": "markdown",
   "metadata": {},
   "source": [
    "Python also has operators to determine if values are less or greater than each other."
   ]
  },
  {
   "cell_type": "code",
   "execution_count": 21,
   "metadata": {},
   "outputs": [
    {
     "name": "stdout",
     "output_type": "stream",
     "text": [
      "True\n",
      "False\n"
     ]
    }
   ],
   "source": [
    "# Less than and greater than operators\n",
    "print(4 < 5)\n",
    "print(4 > 5)"
   ]
  },
  {
   "cell_type": "markdown",
   "metadata": {},
   "source": [
    "Both the *less than* and *greater than* operators will return False if the two operands are equal."
   ]
  },
  {
   "cell_type": "code",
   "execution_count": 22,
   "metadata": {},
   "outputs": [
    {
     "name": "stdout",
     "output_type": "stream",
     "text": [
      "False\n",
      "False\n"
     ]
    }
   ],
   "source": [
    "# Returns False if operands are equal\n",
    "print(4 < 4)\n",
    "print(4 > 4)"
   ]
  },
  {
   "cell_type": "markdown",
   "metadata": {},
   "source": [
    "Python does have *or equal to* versions of both the *less than* and *greater than* operator."
   ]
  },
  {
   "cell_type": "code",
   "execution_count": 23,
   "metadata": {},
   "outputs": [
    {
     "name": "stdout",
     "output_type": "stream",
     "text": [
      "True\n",
      "True\n",
      "True\n",
      "False\n"
     ]
    }
   ],
   "source": [
    "# Less than or equal to\n",
    "print(4 <= 4)\n",
    "print(3 <= 4)\n",
    "print(4 >= 4)\n",
    "print(2 >= 4)"
   ]
  },
  {
   "cell_type": "markdown",
   "metadata": {},
   "source": [
    "### D. Adding Logical Operators\n",
    "What if we wanted to determine whether a number is between two other numbers? Check out the example below."
   ]
  },
  {
   "cell_type": "code",
   "execution_count": 24,
   "metadata": {},
   "outputs": [
    {
     "data": {
      "text/plain": [
       "False"
      ]
     },
     "execution_count": 24,
     "metadata": {},
     "output_type": "execute_result"
    }
   ],
   "source": [
    "# Checking if a number is between two other numbers\n",
    "num = 50\n",
    "num > 10 and num < 20"
   ]
  },
  {
   "cell_type": "markdown",
   "metadata": {},
   "source": [
    "Python has an `and` operator which returns `True` if the operands on either side are true. In the preceding example, `num` is greater than 10, but it is not less than 20. Python also has an `or` and a `not` operator. These three operators are called **logical operators** because they operate on logical `True` and `False` values."
   ]
  },
  {
   "cell_type": "code",
   "execution_count": 25,
   "metadata": {},
   "outputs": [
    {
     "name": "stdout",
     "output_type": "stream",
     "text": [
      "True and False: False\n",
      "True and not False; True\n",
      "True or False: True\n",
      "False or not False: False\n"
     ]
    }
   ],
   "source": [
    "# More examples of logcial operators\n",
    "print(\"True and False:\", True and False)\n",
    "print(\"True and not False;\", True and not False)\n",
    "print(\"True or False:\", True or False)\n",
    "print(\"False or not False:\", False and not False)"
   ]
  },
  {
   "cell_type": "markdown",
   "metadata": {},
   "source": [
    "Both the `and` and `not` operators require two operands. The `and` operator returns the Boolean value `True` if both operands are `True` and returns `False` otherwise. The `or` operator returns `True` if one or more of its operands is `True` and returns `False` otherwise. Finally, the `not` operator, which only requires a single operand, returns the negation of it's operand's Boolean value. Check this explanation against the preceding example and make sure you understand it.\n",
    "\n",
    "With logical operators we can make more sophisticated comparisons."
   ]
  },
  {
   "cell_type": "code",
   "execution_count": 27,
   "metadata": {},
   "outputs": [
    {
     "name": "stdin",
     "output_type": "stream",
     "text": [
      "Enter a number:  15\n"
     ]
    },
    {
     "data": {
      "text/plain": [
       "True"
      ]
     },
     "execution_count": 27,
     "metadata": {},
     "output_type": "execute_result"
    }
   ],
   "source": [
    "# Determine if a number is less than 100 and a multiple of 3\n",
    "num = int(input(\"Enter a number: \"))\n",
    "num < 100 and num % 3 == 0"
   ]
  },
  {
   "cell_type": "code",
   "execution_count": 28,
   "metadata": {},
   "outputs": [
    {
     "name": "stdin",
     "output_type": "stream",
     "text": [
      "Enter a number:  24\n"
     ]
    },
    {
     "data": {
      "text/plain": [
       "True"
      ]
     },
     "execution_count": 28,
     "metadata": {},
     "output_type": "execute_result"
    }
   ],
   "source": [
    "# Determine if a number is between 20 and 30, or if it is not a multiple of 5\n",
    "num = int(input(\"Enter a number: \"))\n",
    "(num <= 30 and num >= 20) or not num % 5 == 0"
   ]
  },
  {
   "cell_type": "markdown",
   "metadata": {},
   "source": [
    "The preceding example uses parentheses to clarify which operation is completed first. Python first determines whether the number is between 20 and 30 (the operation within parentheses), and then it checks to see if the number is divisible by 5. Next it negates the result of the divisibility check and then finally it completes the *or* comparison. In this example the parentheses are not necessary because the `and` operation would be completed first anyway, both because it has higher precedence than `or` and because it occurs to the left of `or`. (When there are multiple operations with the same precedence they are completed left to right.) It doesn't hurt to use parentheses even if they are are not needed. They often make the expression easier to understand.\n",
    "\n",
    "Comparisons that evaluate to true or false are often called **Boolean expressions**."
   ]
  },
  {
   "cell_type": "markdown",
   "metadata": {},
   "source": [
    "Now we are ready to move on to control statements."
   ]
  },
  {
   "cell_type": "markdown",
   "metadata": {},
   "source": [
    "## IV. If Statements\n",
    "### A. If and Else\n",
    "The first control statement we'll discuss is the *if* statement. The *if* statement is one of the most foundational elements of computer programming. Perhaps there is an obscure programming language without an *if* statement or equivalent feature, but the mentor just spent ten minutes looking for such a language on Google and didn't find one."
   ]
  },
  {
   "cell_type": "code",
   "execution_count": 31,
   "metadata": {},
   "outputs": [
    {
     "name": "stdin",
     "output_type": "stream",
     "text": [
      "What is the day of the month today? Please enter an integer. 32\n"
     ]
    },
    {
     "name": "stdout",
     "output_type": "stream",
     "text": [
      "I think you are mistaken.\n"
     ]
    }
   ],
   "source": [
    "# Our first `if` statement.\n",
    "date = int(input(\"What is the day of the month today? Please enter an integer.\"))\n",
    "if date > 31:\n",
    "    print(\"I think you are mistaken.\")"
   ]
  },
  {
   "cell_type": "markdown",
   "metadata": {},
   "source": [
    "The program asked for the user to enter today's date as an integer. The `if` statement checks if the date is greater than 31. If the comparison evaluates to `True`, then the program prints a message indicating a mistake has been made. If the date entered is 31 or less, the comparison evaluates to `False` and nothing happens.\n",
    "\n",
    "By the way, the `\"\\n\"` tells Python to enter a carriage return and for all subsequent output to appear on the next line. Try removing the `\"\\n\"` and see what happens.\n",
    "\n",
    "It would be nice if the program responded in some way when a correct date is entered. Good news, Python has a feature for that -- the `else` clause."
   ]
  },
  {
   "cell_type": "code",
   "execution_count": 32,
   "metadata": {},
   "outputs": [
    {
     "name": "stdin",
     "output_type": "stream",
     "text": [
      "What is the date today? Please enter an integer.\n",
      " 15\n"
     ]
    },
    {
     "name": "stdout",
     "output_type": "stream",
     "text": [
      "Thank you\n"
     ]
    }
   ],
   "source": [
    "# Our first 'else' statement\n",
    "date = int(input(\"What is the date today? Please enter an integer.\\n\"))\n",
    "if date > 31:\n",
    "    print(\"I think you are mistaken.\")\n",
    "else:\n",
    "    print(\"Thank you\")"
   ]
  },
  {
   "cell_type": "markdown",
   "metadata": {},
   "source": [
    "The statement after the `else` clause will be executed only if the expression `date > 31` evaluates to `False`. *Else* clauses cannot exist by themselves. They must always follow in `if` statement (or they can follow a `try` statement, but we'll discuss that later).\n",
    "\n",
    "Run the date program and enter a negative integer less than 31. Our program doesn't recognize that dates can't be negative. We can fix that with an `elif` clause."
   ]
  },
  {
   "cell_type": "code",
   "execution_count": 33,
   "metadata": {},
   "outputs": [
    {
     "name": "stdin",
     "output_type": "stream",
     "text": [
      "What is the date today? Please enter an integer.\n",
      " -15\n"
     ]
    },
    {
     "name": "stdout",
     "output_type": "stream",
     "text": [
      "Dates cannot be negative. Try again.\n"
     ]
    }
   ],
   "source": [
    "# Our first 'elif' statement\n",
    "date = int(input(\"What is the date today? Please enter an integer.\\n\"))\n",
    "if date > 31:\n",
    "    print(\"I think you are mistaken - There aren't any months with more than 31 days.\")\n",
    "elif date < 0:\n",
    "    print(\"Dates cannot be negative. Try again.\")\n",
    "else:\n",
    "    print(\"Thank you\")"
   ]
  },
  {
   "cell_type": "markdown",
   "metadata": {},
   "source": [
    "The `elif` keyword allows us to do another comparison when the first comparison (`date > 31`) evaluates to false. We can have as many `elif` clauses as we want."
   ]
  },
  {
   "cell_type": "code",
   "execution_count": 34,
   "metadata": {},
   "outputs": [
    {
     "name": "stdin",
     "output_type": "stream",
     "text": [
      "How old are you?  -15\n"
     ]
    },
    {
     "name": "stdout",
     "output_type": "stream",
     "text": [
      "I guess you haven't been born yet?\n"
     ]
    }
   ],
   "source": [
    "age = int(input(\"How old are you? \"))\n",
    "if age <= 0:\n",
    "    print(\"I guess you haven't been born yet?\")\n",
    "elif age <= 3:\n",
    "    print(\"How are you even reading this right now?\")\n",
    "elif age <= 11:\n",
    "    print(\"You should join a FIRST Lego League team!\")\n",
    "elif age <= 13:\n",
    "    print(\"You can be on a FIRST Lego League or a FIRST Tech Challenge team!\")\n",
    "elif age <= 16:\n",
    "    print(\"You can be on a FIRST Lego League, FIRST Tech Challenge, or a FIRST Robotics Competition Team!\")\n",
    "elif age <= 18:\n",
    "    print(\"You can join either a FIRST Tech Challenge or a FIRST Robotics Competition team!\")\n",
    "else:\n",
    "    print(\"Have you considered mentoring?\")"
   ]
  },
  {
   "cell_type": "markdown",
   "metadata": {},
   "source": [
    "While we can have as many `elif` clauses as we want, there can't be more than one `else` clause (although you can omit the `else` clause if you want). The statements that are indented under the `else` clause will be executed if all of the comparisons in the `if` and `elif` clauses evaluate to false.\n",
    "\n",
    "Once a comparison evaluates to true, none of the subsequent comparisons in the `elif` statements will be checked. For example, `age` is equal to 10, then several of the `elif` comparisons would evaluate to true, since 10 is less than 11, less than 13, less than 16, etc. But once the first `elif` comparison evaluates to true (`elif age <= 11`), all of the following `elif` clauses are skipped.\n",
    "\n",
    "**Side note:** If you are new to FIRST, then you might not know that there are three different levels of robotics competitions and activities.\n",
    "  * [FIRST Lego League Video](https://youtu.be/FZsvSVz673g)\n",
    "  * [FIRST Tech Challenge Video](https://youtu.be/sRuNnEWFNCs)\n",
    "  * [FIRST Robotics Competition Video](https://youtu.be/wSA6InzFAZE)\n",
    "  * [FIRST Website](https://www.firstinspires.org/)"
   ]
  },
  {
   "cell_type": "markdown",
   "metadata": {},
   "source": [
    "### B. Simple If Statement Exercise\n",
    "**Ex. IV.1.** Now write an `if` statement with `else` and `elif` clauses that takes a numeric grade from 0 to 100 and determines if the grade is an *A*, *B*, *C*, *D*, or *F*. A 90 or above is an *A*, 80 - 89 is a *B*, 70 - 79 is a *C*, 60 - 69 is a *D*, and below a 60 is an *F*.\n",
    "* Use the `print()` function to display the grade.\n",
    "* Hint: start with checking that the grade is an *A*, then check for a *B*, and so forth."
   ]
  },
  {
   "cell_type": "code",
   "execution_count": 17,
   "metadata": {},
   "outputs": [
    {
     "name": "stdin",
     "output_type": "stream",
     "text": [
      "Hello! How much did you score on the exam? \n",
      " 111\n"
     ]
    },
    {
     "name": "stdout",
     "output_type": "stream",
     "text": [
      "Congratulations! \n",
      "You have an A! \n",
      "You should be proud!\n"
     ]
    }
   ],
   "source": [
    "# Ex IV.B.1: if statement that determines letter grade\n",
    "grade = int(input(\"Hello! How much did you score on the exam? \\n\"))\n",
    "if grade >= 90:\n",
    "    print(\"Congratulations! \\n\" \"You have an A! \\n\" \"You should be proud!\")\n",
    "elif grade >= 80:\n",
    "    print(\"Congratulations! \\n\" \"You have a B!\")\n",
    "elif grade >= 70:\n",
    "    print(\"You have a C!\")\n",
    "elif grade >= 60:\n",
    "    print(\"You have a D.\")\n",
    "else:\n",
    "    print(\"I am sorry. \\n\" \"You have an F\")"
   ]
  },
  {
   "cell_type": "markdown",
   "metadata": {},
   "source": [
    "### C. More on If Statements\n",
    "So far, only one programming statement has followed each of our `if` and `else` clauses. But we can include as many statements as we want after `if`, `else` or `elif`. We can also put `if` statements inside of other `if` statements use more sophisticated comparisons."
   ]
  },
  {
   "cell_type": "code",
   "execution_count": 18,
   "metadata": {},
   "outputs": [
    {
     "name": "stdin",
     "output_type": "stream",
     "text": [
      "What is the temperature outside right now? It's OK to guess.\n",
      " 111\n",
      "Did you enter the temperature in farenheit or celsius? Enter either 'f' or 'c'.\n",
      " f\n"
     ]
    },
    {
     "name": "stdout",
     "output_type": "stream",
     "text": [
      "I will convert the temperature you entered to celsius.\n",
      "111.0 F is equal to  43.9 C.\n",
      "It's pretty warm out. Be sure to stay hydrated!\n"
     ]
    }
   ],
   "source": [
    "# More `if` statements\n",
    "# Temperature-check program\n",
    "temp = float(input(\"What is the temperature outside right now? It's OK to guess.\\n\"))\n",
    "units_input= input(\"Did you enter the temperature in farenheit or celsius? Enter either 'f' or 'c'.\\n\")\n",
    "units = units_input.lower()[0]\n",
    "if units == 'c' or units == 'f':  # if-statement #1\n",
    "    \n",
    "    if units == 'f':                  # if-statement #2\n",
    "        print(\"I will convert the temperature you entered to celsius.\")\n",
    "        temp_f = temp\n",
    "        temp = round((temp - 32) * 5 / 9, 1)\n",
    "        print(temp_f, \"F\", \"is equal to \", temp, \"C.\")\n",
    "    else:                                            # else for if-statement #2\n",
    "        print(\"Thank you for using celsius.\")\n",
    "        \n",
    "    if temp < -10:                                   # if-statement #3\n",
    "        print(\"Dress warm. Don't get frostbite.\")\n",
    "    elif temp < 5:\n",
    "        print(\"Be careful, it might be slippery outside.\")\n",
    "    elif temp < 15:\n",
    "        print(\"Make sure you where a jacket!\")\n",
    "    elif temp < 20:\n",
    "        print(\"It looks nice outside. Be sure to put on sunscreen.\")\n",
    "    else:                                                             # else for if-statement #3\n",
    "        print(\"It's pretty warm out. Be sure to stay hydrated!\")\n",
    "        \n",
    "else:                                                                 # else for if-statement #1\n",
    "    print(\"I do not understand your input.\")"
   ]
  },
  {
   "cell_type": "markdown",
   "metadata": {},
   "source": [
    "Our temperature-check program introduces some new techniques.\n",
    "  1. We used the logical operator `or` in `if` statement #1.\n",
    "  2. We nested two `if` statements inside `if` statement #1.\n",
    "  3. There is a block of four statements indented under `if` statement #2.\n",
    "\n",
    "It can be tricky figuring out which `else` goes with which `if`. Keep in mind that the `else` is always indented the same amount as its matching `if` statement. The final `else` is indented the same amount as and goes with `if` statement #1. "
   ]
  },
  {
   "cell_type": "markdown",
   "metadata": {},
   "source": [
    "### D. More `if` Statement Exercises\n",
    "**Ex. IV.2.** Use the `input()` function to ask the user to enter a word. Print a different message to the user depending on whether the word starts and ends with the same letter. The program should ignore case. This is usually done by converting the user's input to all upper or all lower case."
   ]
  },
  {
   "cell_type": "code",
   "execution_count": 28,
   "metadata": {},
   "outputs": [
    {
     "name": "stdin",
     "output_type": "stream",
     "text": [
      "Please give us a word.\n",
      " man\n"
     ]
    },
    {
     "name": "stdout",
     "output_type": "stream",
     "text": [
      "What a very peculiar word.\n"
     ]
    }
   ],
   "source": [
    "# Ex IV.2\n",
    "word = str(input(\"Please give us a word.\\n\").lower())\n",
    "word_f = word[0]\n",
    "word_l = word[-1]\n",
    "\n",
    "if word_f == word_l:\n",
    "    print(\"A very interesting word, full of mystery and wonder. \\n\"\n",
    "          \"Did you know that both the first and last letter of your word are the same?\" )\n",
    "else:\n",
    "    print(\"What a very peculiar word.\")\n"
   ]
  },
  {
   "cell_type": "markdown",
   "metadata": {},
   "source": [
    "**Ex IV.3.** Write a program that will suggest an activity to someone who is bored. The program should ask the user at least three yes/no questions before suggesting an activity. The program should ask different questions depending on the answer to the previous question (requires nested `if` statements). The program could ask questions like \"Is it nice outside?\" or \"Are you hungry right now?\""
   ]
  },
  {
   "cell_type": "code",
   "execution_count": 35,
   "metadata": {},
   "outputs": [
    {
     "name": "stdout",
     "output_type": "stream",
     "text": [
      "Hello! I am your virtual assistant! \n",
      "It seems that you are bored. I can suggest some activities to do!\n",
      "Please answer a few questions\n",
      " \n"
     ]
    },
    {
     "name": "stdin",
     "output_type": "stream",
     "text": [
      "Is it it sunny?\n",
      " N\n",
      "Is it raining?\n",
      " N\n",
      "Is it snowing?\n",
      " B\n"
     ]
    },
    {
     "name": "stdout",
     "output_type": "stream",
     "text": [
      "I am sorry,\n",
      "something went wrong.\n",
      "Could you please start over?\n"
     ]
    }
   ],
   "source": [
    "# Ex IV.3\n",
    "print(\"Hello! I am your virtual assistant! \\n\"\n",
    "     \"It seems that you are bored. I can suggest some activities to do!\\n\"\n",
    "     \"Please answer a few questions\\n \")\n",
    "ans1 = str(input(\"Is it it sunny?\\n\").lower())\n",
    "if ans1 == \"n\":\n",
    "    ans2 = str(input(\"Is it raining?\\n\").lower())\n",
    "    if ans2 == \"n\":\n",
    "        ans3 = str(input(\"Is it snowing?\\n\").lower())\n",
    "        if ans3 == \"n\":\n",
    "            print(\"Perhaps you could do some cloudwatching...\")\n",
    "        elif ans3 == \"y\":\n",
    "            print(\"Perhaps you could build a snowman...\")\n",
    "        else:\n",
    "            print(\"I am sorry,\\n\"\n",
    "                 \"something went wrong.\\n\"\n",
    "                 \"Could you please start over?\")\n",
    "    elif ans2 == \"y\":\n",
    "        ans3 = str(input(\"Do you want to go outside?\\n\").lower())\n",
    "        if ans3 == \"n\":\n",
    "            print(\"Perhaps you could read a book...\")\n",
    "        elif ans3 == \"y\":\n",
    "            print(\"Perhaps you could play in the puddles.\\n\"\n",
    "                 \"Remember to bring a raincoat!\")\n",
    "        else:\n",
    "            print(\"I am sorry,\\n\"\n",
    "            \"something went wrong.\\n\"\n",
    "            \"Could you please start over?\")\n",
    "    else:\n",
    "        print(\"I am sorry,\\n\"\n",
    "        \"something went wrong.\\n\"\n",
    "        \"Could you please start over?\")\n",
    "elif ans1 == \"y\":\n",
    "    ans2 = str(input(\"Do you have friends?\\n\").lower())\n",
    "    if ans2 == \"n\":\n",
    "        ans3 = str(input(\"Do you draw?\\n\").lower())\n",
    "        if ans3 == \"n\":\n",
    "            print(\"Perhaps you could go cloudwatching...\")\n",
    "        elif ans3 == \"y\":\n",
    "            print(\"Perhaps you could draw some trees that you see...\")\n",
    "        else:\n",
    "            print(\"I am sorry,\\n\"\n",
    "                 \"something went wrong.\\n\"\n",
    "                 \"Could you please start over?\")\n",
    "    elif ans2 == \"y\":\n",
    "        ans3 = str(input(\"Do you want enjoy sports?\\n\").lower())\n",
    "        if ans3 == \"n\":\n",
    "            print(\"Perhaps you could play tag...\")\n",
    "        elif ans3 == \"y\":\n",
    "            print(\"Perhaps you could play a game of football...\")\n",
    "        else:\n",
    "            print(\"I am sorry,\\n\"\n",
    "                \"something went wrong.\\n\"\n",
    "                \"Could you please start over?\")\n",
    "    else:\n",
    "        print(\"I am sorry,\\n\"\n",
    "        \"something went wrong.\\n\"\n",
    "        \"Could you please start over?\")\n",
    "else:\n",
    "    print(\"I am sorry,\\n\"\n",
    "    \"something went wrong.\\n\"\n",
    "    \"Could you please start over?\")\n",
    "    \n",
    "            "
   ]
  },
  {
   "cell_type": "markdown",
   "metadata": {},
   "source": [
    "## V. Python Tutorial Review\n",
    "The topics covered in this section are also covered in the official *Python Tutorial*. Read through the following section of the tutorial to review the concepts we just covered.\n",
    "* [Section 4.1](https://docs.python.org/3/tutorial/controlflow.html#if-statements) covers *if* statements.\n",
    "Try out some examples from the *Python Tutorial* below:"
   ]
  },
  {
   "cell_type": "code",
   "execution_count": 40,
   "metadata": {},
   "outputs": [
    {
     "name": "stdin",
     "output_type": "stream",
     "text": [
      "Please enter an integer:  5\n"
     ]
    },
    {
     "name": "stdout",
     "output_type": "stream",
     "text": [
      "More\n"
     ]
    }
   ],
   "source": [
    "# Examples from Python Tutorial\n",
    "x = int(input(\"Please enter an integer: \"))\n",
    "if x < 0:\n",
    "    x = 0\n",
    "    print('Negative changed to zero')\n",
    "elif x == 0:\n",
    "    print('Zero')\n",
    "elif x == 1:\n",
    "    print('Single')\n",
    "else:\n",
    "    print('More')\n",
    "\n"
   ]
  },
  {
   "cell_type": "markdown",
   "metadata": {},
   "source": [
    "## VI. Harder Exercises"
   ]
  },
  {
   "cell_type": "markdown",
   "metadata": {},
   "source": [
    "**Ex. VI.1 Number Averager**  \n",
    "Write a script that prompts (use `input()`) the user for **two numbers**, a and b. Then, prompt the user to enter a type of average out of the three options below. Make it so the user would just type in a **number** 1, 2 or 3 for the average (i.e. 1 for arithmetic mean, 2 for geometric mean, or 3 for root-mean-square). This numerical selection is an example of how to give the user a simple response that will get around potential spelling errors and head off user frustration. This design decision makes the user interaction more robust. Output the correct average, based on what the user selected.\n",
    "1. The arithmetic mean:  $(a + b) / 2 $\n",
    "2. The geometric mean:  $\\sqrt{ab}$\n",
    "3. The root-mean-square: $\\sqrt{\\frac{a^2 + b^2}{2}}$\n",
    "\n",
    "**Note:** You can calculate a square root by taking a number to the power of 0.5: `9**0.5`."
   ]
  },
  {
   "cell_type": "code",
   "execution_count": 50,
   "metadata": {},
   "outputs": [
    {
     "name": "stdin",
     "output_type": "stream",
     "text": [
      "Hello.\n",
      "Please insert a whole number.\n",
      " 5\n",
      "Please insert another whole number.\n",
      " 2\n",
      "Please select one of three types of averages\n",
      "1 = arithmetic mean\n",
      "2 = geometric mean\n",
      "3 = root-mean-square\n",
      " 4\n"
     ]
    },
    {
     "name": "stdout",
     "output_type": "stream",
     "text": [
      "I am sorry.\n",
      "Something went wrong.\n",
      "Please try again.\n"
     ]
    }
   ],
   "source": [
    "# Ex. VI.1:\n",
    "a = int(input(\"Hello.\\nPlease insert a whole number.\\n\"))\n",
    "b = int(input(\"Please insert another whole number.\\n\"))\n",
    "avg = int(input(\"Please select one of three types of averages\\n\"\n",
    "               \"1 = arithmetic mean\\n\"\n",
    "               \"2 = geometric mean\\n\"\n",
    "               \"3 = root-mean-square\\n\"))\n",
    "if avg == 1:\n",
    "    ans = round((a + b)/2,2)\n",
    "    print(\"The average is \", ans)\n",
    "elif avg == 2:\n",
    "    ans = round((a * b)**0.5,2)\n",
    "    print(\"The average is \", ans)\n",
    "elif avg == 3:\n",
    "    ans = round((((a**2)+(b**2))/2)**0.5,2)\n",
    "    print(\"The average is \", ans)\n",
    "else:\n",
    "    print(\"I am sorry.\\nSomething went wrong.\\nPlease try again.\")\n"
   ]
  },
  {
   "cell_type": "markdown",
   "metadata": {},
   "source": [
    "**Ex. VI.2. Income Tax**  \n",
    "The mythical island nation of Laskoatu has a rather simple tax code.  The first 1000 dollars of income is taxed at 5%.  The next 1000 dollars is taxed at 10%.  Any income beyond the first 2000 dollars is taxed at 15%.  Complete the following script so that it asks the user for his or her income (a **number**) and outputs the amount of tax owed. \n",
    "\n",
    "Example:\n",
    "```\n",
    "Please enter your income: 1500\n",
    "\n",
    "The tax owed is: $100 \n",
    "```"
   ]
  },
  {
   "cell_type": "code",
   "execution_count": 8,
   "metadata": {},
   "outputs": [
    {
     "name": "stdin",
     "output_type": "stream",
     "text": [
      "Hello! Please enter your income: \n",
      " 300450\n"
     ]
    },
    {
     "name": "stdout",
     "output_type": "stream",
     "text": [
      "The tax owed is: $45067.5\n"
     ]
    }
   ],
   "source": [
    "# Ex XII.2\n",
    "inc = round(float(input(\"Hello! Please enter your income: \\n\")),2)\n",
    "if inc <= 1000:\n",
    "    tax = 0.05\n",
    "elif inc <= 2000:\n",
    "    tax = 0.1\n",
    "else:\n",
    "    tax = 0.15\n",
    "owe = round(inc*tax,2)\n",
    "print(\"The tax owed is: $\"+str(owe))\n"
   ]
  },
  {
   "cell_type": "markdown",
   "metadata": {},
   "source": [
    "## VII. Quiz\n",
    "Write your answers as Python comments in the code cells provided."
   ]
  },
  {
   "cell_type": "markdown",
   "metadata": {},
   "source": [
    "**#1.** Explain the difference between the operators `=` and `==`."
   ]
  },
  {
   "cell_type": "code",
   "execution_count": 9,
   "metadata": {},
   "outputs": [],
   "source": [
    "# Quiz-1\n",
    "# = is used to set something\n",
    "# == is used to compare something"
   ]
  },
  {
   "cell_type": "markdown",
   "metadata": {},
   "source": [
    "**#2.** Inspect the code snippet below. What will the output of the code be? In other words, which items will evaluate to `True` and which will evaluate to `False`?\n",
    "\n",
    "```python\n",
    "for item in [1, 0, [], [0], \"False\", \"\", -1]:\n",
    "    if item:\n",
    "        print(True)\n",
    "    else:\n",
    "        print(False)\n",
    "```"
   ]
  },
  {
   "cell_type": "code",
   "execution_count": 11,
   "metadata": {},
   "outputs": [],
   "source": [
    "# Quiz-2\n",
    "# 1, \"False\", [0], and -1 would return True\n",
    "# 0, [], and \"\" would return False"
   ]
  },
  {
   "cell_type": "markdown",
   "metadata": {},
   "source": [
    "**#3.** Will the following code generate an error? Why or why not?\n",
    "```python\n",
    "x = 1\n",
    "y = 0\n",
    "if not y:\n",
    "    result = x * y\n",
    "else:\n",
    "    result = x / y\n",
    "print(result)\n",
    "```"
   ]
  },
  {
   "cell_type": "code",
   "execution_count": 10,
   "metadata": {},
   "outputs": [],
   "source": [
    "# Quiz-3\n",
    "# It would generate an error because the else block is dividing by 0, which you cannot do."
   ]
  },
  {
   "cell_type": "markdown",
   "metadata": {},
   "source": [
    "## VII. Save Your Work\n",
    "Once you have completed the exercises, save a copy of the notebook outside of the git repository (outside of the *pyclass_frc* folder). Include your name in the file name. Send the notebook file to another student to check your answers."
   ]
  },
  {
   "cell_type": "markdown",
   "metadata": {},
   "source": [
    "## VIII. Concept and Terminology Review\n",
    "You should be able to define the following terms or describe the concept. Re-review this and prior sessions if any of the terms are unfamiliar.\n",
    "* Statement\n",
    "* Splitting statements between multiple lines\n",
    "* Variable assignment with `=`\n",
    "* Comparison operators: `==`, `<`, `>`, `<=`, `>=`\n",
    "* Boolean data type\n",
    "* Logical operators: `and`, `or`, `not`\n",
    "* `if` statement\n",
    "* Difference between `else` and `elif`"
   ]
  },
  {
   "cell_type": "markdown",
   "metadata": {},
   "source": [
    "[Table of Contents](../../index.ipynb)"
   ]
  }
 ],
 "metadata": {
  "kernelspec": {
   "display_name": "Python 3 (ipykernel)",
   "language": "python",
   "name": "python3"
  },
  "language_info": {
   "codemirror_mode": {
    "name": "ipython",
    "version": 3
   },
   "file_extension": ".py",
   "mimetype": "text/x-python",
   "name": "python",
   "nbconvert_exporter": "python",
   "pygments_lexer": "ipython3",
   "version": "3.9.5"
  }
 },
 "nbformat": 4,
 "nbformat_minor": 4
}
